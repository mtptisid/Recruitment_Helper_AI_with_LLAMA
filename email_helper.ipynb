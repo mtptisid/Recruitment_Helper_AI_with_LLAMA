{
 "cells": [
  {
   "cell_type": "markdown",
   "metadata": {},
   "source": [
    "# AutoRecruiterAI\n",
    "\n",
    "1.\t**Extracting Job Postings**: It takes a career page’s scraped text and automatically extracts relevant job information (like role, experience, skills, and description) in a structured format (JSON). This helps businesses easily collect job data from multiple websites without manual effort.\n",
    "\n",
    "2.\t**Writing Cold Emails**: Based on the extracted job details, the script generates a personalized cold email that a business development executive (named Mohan) would send to a client, offering AtliQ’s services to fulfill their job needs. The email includes relevant links from the company’s portfolio.\n",
    "\n",
    "\tExplanation in Simple Terms:\n",
    "\n",
    "\t•\t**What it does**: The script uses AI to quickly find job listings from a website and create professional emails to potential clients based on those job listings.\n",
    "\t\n",
    "\t•\t**Why it’s useful**: It saves time by automating the extraction of job data from career pages and writing customized emails to clients without needing to manually gather information or draft messages."
   ]
  },
  {
   "cell_type": "code",
   "execution_count": 1,
   "metadata": {},
   "outputs": [
    {
     "name": "stdout",
     "output_type": "stream",
     "text": [
      "Here are some of the most commonly used tools by HR professionals to hire resources:\n",
      "\n",
      "1. **Applicant Tracking Systems (ATS)**: These systems help manage job postings, candidate applications, and resumes. Examples include:\n",
      "\t* Workday\n",
      "\t* BambooHR\n",
      "\t* Taleo\n",
      "\t* iCIMS\n",
      "\t* Jobvite\n",
      "2. **Job Boards and Career Websites**: Popular job boards and career websites used by HR professionals include:\n",
      "\t* LinkedIn\n",
      "\t* Indeed\n",
      "\t* Glassdoor\n",
      "\t* Monster\n",
      "\t* CareerBuilder\n",
      "3. **Social Media**: Many HR professionals use social media platforms to post job openings and connect with potential candidates:\n",
      "\t* LinkedIn (again, a popular choice)\n",
      "\t* Twitter\n",
      "\t* Facebook\n",
      "\t* Instagram\n",
      "4. **Recruitment Marketing Platforms**: These platforms help HR professionals create and manage job postings, as well as track candidate engagement:\n",
      "\t* SmashFly\n",
      "\t* Phenom People\n",
      "\t* CareerArc\n",
      "5. **Video Interviewing Tools**: These tools enable HR professionals to conduct remote interviews and assessments:\n",
      "\t* Zoom\n",
      "\t* Skype\n",
      "\t* Google Meet\n",
      "\t* HireVue\n",
      "\t* Spark Hire\n",
      "6. **Background Check and Verification Tools**: These tools help HR professionals verify candidate information and conduct background checks:\n",
      "\t* Sterling\n",
      "\t* HireRight\n",
      "\t* Checkr\n",
      "7. **Employee Referral Platforms**: These platforms encourage current employees to refer friends and contacts for job openings:\n",
      "\t* EmployeeReferrals\n",
      "\t* ReferralCandy\n",
      "\t* Zao\n",
      "8. **Predictive Analytics and AI-powered Tools**: These tools use data and AI to help HR professionals identify top candidates and predict job fit:\n",
      "\t* Entelo\n",
      "\t* TextRecruit\n",
      "\t* Ideal\n",
      "9. **HR Information Systems (HRIS)**: These systems help HR professionals manage employee data, benefits, and other HR-related tasks:\n",
      "\t* Workday\n",
      "\t* BambooHR\n",
      "\t* ADP\n",
      "10. **Virtual Recruitment Platforms**: These platforms enable HR professionals to host virtual recruitment events and connect with candidates remotely:\n",
      "\t* Brazen\n",
      "\t* VirtualJobFair\n",
      "\t* CareerEco\n",
      "\n",
      "Keep in mind that the specific tools used by HR professionals may vary depending on the organization's size, industry, and recruitment needs.\n"
     ]
    }
   ],
   "source": [
    "from langchain_groq import ChatGroq\n",
    "\n",
    "llm = ChatGroq(\n",
    "    temperature=0, \n",
    "    groq_api_key='your_api_key', \n",
    "    model_name=\"llama-3.1-70b-versatile\"\n",
    ")\n",
    "\n",
    "\n",
    "response = llm.invoke(\"whats tools the most HR use to hire resources.?\")\n",
    "print(response.content)"
   ]
  },
  {
   "cell_type": "code",
   "execution_count": 2,
   "metadata": {},
   "outputs": [
    {
     "name": "stderr",
     "output_type": "stream",
     "text": [
      "USER_AGENT environment variable not set, consider setting it to identify your requests.\n"
     ]
    },
    {
     "name": "stdout",
     "output_type": "stream",
     "text": [
      "Acceldata - Solutions ConsultantSolutions ConsultantBengaluru / IndiaCustomer Success – Solutions & Services /Full-Time /On-siteApply for this jobAt Acceldata, We are revolutionizing data observability in how enterprises manage and observe data by offering comprehensive solutions tailored to each organization's unique needs. Our platform integrates various technologies, enabling seamless data observability for modern enterprises.About the Role: We are looking for a Solutions Consultant to join our SNS team. As a Solutions Consultant, you will work with customers on short—to medium-term engagements to implement the data observability needs using the Acceldata Data Observability Cloud(ADOC).In this role, you will leverage your expertise in big data systems, kubernetes, and cloud-native systems to design and deliver MVPs, reference architectures, and demo applications for our customers. You will provide best-in-class implementation, working closely with customer engineering teams and our internal teams to ensure successful deployment, post-sales support, and long-term adoption of Acceldata solutions. Your ability to solutionize complex deployments, optimize performance, and resolve product issues with solutions and workarounds will be critical to driving customer success.What we look for:Experience in successfully managing multiple B2B infrastructure software development projects, including driving expansion, customer satisfaction, feature adoption, and retention.12+ years experience in data engineering, data platforms & cloud technology projects that require integrating to meet customer needs.9+ years of experience in customer-facing product implementation knowledge.Hands-on experience with two or more common Cloud ecosystems (AWS, Azure, GCP) with expertise in at least one.Comfortable writing code in either Python or Scala.Design and deployment of performant end-to-end data architectures.Consult on design and architecture; implement strategic customer projects that lead to customers' successful understanding, evaluation, and adoption of Acceldata Data Observability Cloud.Good understanding of Data management concepts like Data Quality, Data Catalog and Data Governance.You are a great fit for this role if you haveStrong desire to tackle hard technical problems and proven ability to do so with little or no direct daily supervision.Solid understanding of Data management concepts like Data Quality, Data Catalog and Data Governance and cloud networking and security technologies (e.g. VPC, Private Link, Private Service Connect, TLS/SSL, SASL, Kerberos, etc.).Experience operating Linux systems (configure, tune, and troubleshoot both RedHat and Debian-based distributions).Excellent communication skills, with an ability to clearly and concisely explain tricky issues and complex solutions.Ability to quickly learn new technologies and willingness to travel up to 50% of the time to meet with customersApply for this jobAcceldata Home PageJobs powered by \n"
     ]
    }
   ],
   "source": [
    "from langchain_community.document_loaders import WebBaseLoader\n",
    "\n",
    "loader = WebBaseLoader(\"https://jobs.lever.co/acceldata/1954d7e3-46a0-42b4-b712-9a16035903a2\")\n",
    "page_data = loader.load().pop().page_content\n",
    "print(page_data)"
   ]
  },
  {
   "cell_type": "code",
   "execution_count": 3,
   "metadata": {},
   "outputs": [
    {
     "data": {
      "text/plain": [
       "str"
      ]
     },
     "execution_count": 3,
     "metadata": {},
     "output_type": "execute_result"
    }
   ],
   "source": [
    "from langchain_core.prompts import PromptTemplate\n",
    "\n",
    "prompt_extract = PromptTemplate.from_template(\n",
    "        \"\"\"\n",
    "        ### SCRAPED TEXT FROM WEBSITE:\n",
    "        {page_data}\n",
    "        ### INSTRUCTION:\n",
    "        The scraped text is from the career's page of a website.\n",
    "        Your job is to extract the job postings and return them in JSON format containing the \n",
    "        following keys: `role`, `experience`, `skills` and `description`.\n",
    "        Only return the valid JSON.\n",
    "        ### VALID JSON (NO PREAMBLE):    \n",
    "        \"\"\"\n",
    ")\n",
    "\n",
    "chain_extract = prompt_extract | llm \n",
    "res = chain_extract.invoke(input={'page_data':page_data})\n",
    "type(res.content)"
   ]
  },
  {
   "cell_type": "code",
   "execution_count": 4,
   "metadata": {},
   "outputs": [
    {
     "data": {
      "text/plain": [
       "{'role': 'Solutions Consultant',\n",
       " 'experience': ['12+ years experience in data engineering, data platforms & cloud technology projects',\n",
       "  '9+ years of experience in customer-facing product implementation knowledge',\n",
       "  'Experience in successfully managing multiple B2B infrastructure software development projects'],\n",
       " 'skills': ['Hands-on experience with two or more common Cloud ecosystems (AWS, Azure, GCP)',\n",
       "  'Expertise in at least one Cloud ecosystem',\n",
       "  'Comfortable writing code in either Python or Scala',\n",
       "  'Design and deployment of performant end-to-end data architectures',\n",
       "  'Data management concepts like Data Quality, Data Catalog and Data Governance',\n",
       "  'Cloud networking and security technologies (e.g. VPC, Private Link, Private Service Connect, TLS/SSL, SASL, Kerberos, etc.)',\n",
       "  'Operating Linux systems (configure, tune, and troubleshoot both RedHat and Debian-based distributions)'],\n",
       " 'description': 'We are looking for a Solutions Consultant to join our SNS team. As a Solutions Consultant, you will work with customers on short—to medium-term engagements to implement the data observability needs using the Acceldata Data Observability Cloud(ADOC). In this role, you will leverage your expertise in big data systems, kubernetes, and cloud-native systems to design and deliver MVPs, reference architectures, and demo applications for our customers.'}"
      ]
     },
     "execution_count": 4,
     "metadata": {},
     "output_type": "execute_result"
    }
   ],
   "source": [
    "from langchain_core.output_parsers import JsonOutputParser\n",
    "\n",
    "json_parser = JsonOutputParser()\n",
    "json_res = json_parser.parse(res.content)\n",
    "job = json_res\n",
    "json_res"
   ]
  },
  {
   "cell_type": "code",
   "execution_count": 5,
   "metadata": {},
   "outputs": [
    {
     "data": {
      "text/html": [
       "<div>\n",
       "<style scoped>\n",
       "    .dataframe tbody tr th:only-of-type {\n",
       "        vertical-align: middle;\n",
       "    }\n",
       "\n",
       "    .dataframe tbody tr th {\n",
       "        vertical-align: top;\n",
       "    }\n",
       "\n",
       "    .dataframe thead th {\n",
       "        text-align: right;\n",
       "    }\n",
       "</style>\n",
       "<table border=\"1\" class=\"dataframe\">\n",
       "  <thead>\n",
       "    <tr style=\"text-align: right;\">\n",
       "      <th></th>\n",
       "      <th>Techstack</th>\n",
       "      <th>Links</th>\n",
       "    </tr>\n",
       "  </thead>\n",
       "  <tbody>\n",
       "    <tr>\n",
       "      <th>0</th>\n",
       "      <td>React, Redux, Node.js</td>\n",
       "      <td>https://brittanychiang.com/</td>\n",
       "    </tr>\n",
       "    <tr>\n",
       "      <th>1</th>\n",
       "      <td>Angular, RxJS, .NET</td>\n",
       "      <td>https://rxresu.me/</td>\n",
       "    </tr>\n",
       "    <tr>\n",
       "      <th>2</th>\n",
       "      <td>Vue.js, Vuetify, Firebase</td>\n",
       "      <td>https://sarahdayan.dev/</td>\n",
       "    </tr>\n",
       "    <tr>\n",
       "      <th>3</th>\n",
       "      <td>Python, Django, Postgres</td>\n",
       "      <td>https://writethedocs.org/</td>\n",
       "    </tr>\n",
       "    <tr>\n",
       "      <th>4</th>\n",
       "      <td>Java, Spring Boot, Hibernate</td>\n",
       "      <td>https://martinfowler.com/</td>\n",
       "    </tr>\n",
       "    <tr>\n",
       "      <th>5</th>\n",
       "      <td>Flutter, Firebase, Stripe</td>\n",
       "      <td>https://timothymiller.dev/</td>\n",
       "    </tr>\n",
       "    <tr>\n",
       "      <th>6</th>\n",
       "      <td>WordPress, Elementor, PHP</td>\n",
       "      <td>https://kayleigh.tech/</td>\n",
       "    </tr>\n",
       "    <tr>\n",
       "      <th>7</th>\n",
       "      <td>Magento, Laravel, MySQL</td>\n",
       "      <td>https://ahmedalsamman.com/</td>\n",
       "    </tr>\n",
       "    <tr>\n",
       "      <th>8</th>\n",
       "      <td>React Native, TypeScript, Firebase</td>\n",
       "      <td>https://www.darrenmothersele.com/</td>\n",
       "    </tr>\n",
       "    <tr>\n",
       "      <th>9</th>\n",
       "      <td>iOS, Swift, CoreData</td>\n",
       "      <td>https://federicoterzi.com/</td>\n",
       "    </tr>\n",
       "    <tr>\n",
       "      <th>10</th>\n",
       "      <td>Android, Java, Kotlin</td>\n",
       "      <td>https://anilmaurya.net/</td>\n",
       "    </tr>\n",
       "    <tr>\n",
       "      <th>11</th>\n",
       "      <td>Kotlin, Compose, Firebase</td>\n",
       "      <td>https://nikhilkini.com/</td>\n",
       "    </tr>\n",
       "    <tr>\n",
       "      <th>12</th>\n",
       "      <td>Android TV, Java, ExoPlayer</td>\n",
       "      <td>https://mindorks.com/</td>\n",
       "    </tr>\n",
       "    <tr>\n",
       "      <th>13</th>\n",
       "      <td>iOS, SwiftUI, ARKit</td>\n",
       "      <td>https://maximeheckel.com/</td>\n",
       "    </tr>\n",
       "    <tr>\n",
       "      <th>14</th>\n",
       "      <td>Cross-platform, Flutter, Azure</td>\n",
       "      <td>https://adamwathan.me/</td>\n",
       "    </tr>\n",
       "    <tr>\n",
       "      <th>15</th>\n",
       "      <td>Backend, Go, Kubernetes</td>\n",
       "      <td>https://bilalquadri.me/</td>\n",
       "    </tr>\n",
       "    <tr>\n",
       "      <th>16</th>\n",
       "      <td>Frontend, TypeScript, Next.js</td>\n",
       "      <td>https://leerob.io/</td>\n",
       "    </tr>\n",
       "    <tr>\n",
       "      <th>17</th>\n",
       "      <td>Full-stack, MERN, GraphQL</td>\n",
       "      <td>https://theodorestarks.dev/</td>\n",
       "    </tr>\n",
       "    <tr>\n",
       "      <th>18</th>\n",
       "      <td>Machine Learning, Python, PyTorch</td>\n",
       "      <td>https://sebastianraschka.com/</td>\n",
       "    </tr>\n",
       "    <tr>\n",
       "      <th>19</th>\n",
       "      <td>DevOps, AWS, Terraform</td>\n",
       "      <td>https://www.hashicorp.com/</td>\n",
       "    </tr>\n",
       "  </tbody>\n",
       "</table>\n",
       "</div>"
      ],
      "text/plain": [
       "                             Techstack                              Links\n",
       "0                React, Redux, Node.js        https://brittanychiang.com/\n",
       "1                  Angular, RxJS, .NET                 https://rxresu.me/\n",
       "2            Vue.js, Vuetify, Firebase            https://sarahdayan.dev/\n",
       "3             Python, Django, Postgres          https://writethedocs.org/\n",
       "4         Java, Spring Boot, Hibernate          https://martinfowler.com/\n",
       "5            Flutter, Firebase, Stripe         https://timothymiller.dev/\n",
       "6            WordPress, Elementor, PHP             https://kayleigh.tech/\n",
       "7              Magento, Laravel, MySQL         https://ahmedalsamman.com/\n",
       "8   React Native, TypeScript, Firebase  https://www.darrenmothersele.com/\n",
       "9                 iOS, Swift, CoreData         https://federicoterzi.com/\n",
       "10               Android, Java, Kotlin            https://anilmaurya.net/\n",
       "11           Kotlin, Compose, Firebase            https://nikhilkini.com/\n",
       "12         Android TV, Java, ExoPlayer              https://mindorks.com/\n",
       "13                 iOS, SwiftUI, ARKit          https://maximeheckel.com/\n",
       "14      Cross-platform, Flutter, Azure             https://adamwathan.me/\n",
       "15             Backend, Go, Kubernetes            https://bilalquadri.me/\n",
       "16       Frontend, TypeScript, Next.js                 https://leerob.io/\n",
       "17           Full-stack, MERN, GraphQL        https://theodorestarks.dev/\n",
       "18   Machine Learning, Python, PyTorch      https://sebastianraschka.com/\n",
       "19              DevOps, AWS, Terraform         https://www.hashicorp.com/"
      ]
     },
     "execution_count": 5,
     "metadata": {},
     "output_type": "execute_result"
    }
   ],
   "source": [
    "import pandas as pd\n",
    "\n",
    "df = pd.read_csv(\"portfolio.csv\")\n",
    "df"
   ]
  },
  {
   "cell_type": "code",
   "execution_count": 6,
   "metadata": {},
   "outputs": [],
   "source": [
    "import sqlite3\n",
    "__import__('pysqlite3')\n",
    "import sys\n",
    "sys.modules['sqlite3'] = sys.modules.pop('pysqlite3')\t\n",
    "\n",
    "import uuid\n",
    "import chromadb\n",
    "from chromadb.config import Settings\n",
    "\n",
    "client = chromadb.PersistentClient('vectorstore')\n",
    "collection = client.get_or_create_collection(name=\"portfolio\")\n",
    "\n",
    "if not collection.count():\n",
    "    for _, row in df.iterrows():\n",
    "        collection.add(documents=row[\"Techstack\"],\n",
    "                       metadatas={\"links\": row[\"Links\"]},\n",
    "                       ids=[str(uuid.uuid4())])\n",
    "        "
   ]
  },
  {
   "cell_type": "code",
   "execution_count": 7,
   "metadata": {},
   "outputs": [
    {
     "data": {
      "text/plain": [
       "[[{'links': 'https://www.hashicorp.com/'},\n",
       "  {'links': 'https://adamwathan.me/'}],\n",
       " [{'links': 'https://www.hashicorp.com/'},\n",
       "  {'links': 'https://bilalquadri.me/'}],\n",
       " [{'links': 'https://writethedocs.org/'},\n",
       "  {'links': 'https://sebastianraschka.com/'}],\n",
       " [{'links': 'https://federicoterzi.com/'},\n",
       "  {'links': 'https://bilalquadri.me/'}],\n",
       " [{'links': 'https://federicoterzi.com/'},\n",
       "  {'links': 'https://www.hashicorp.com/'}],\n",
       " [{'links': 'https://bilalquadri.me/'},\n",
       "  {'links': 'https://www.hashicorp.com/'}],\n",
       " [{'links': 'https://bilalquadri.me/'}, {'links': 'https://anilmaurya.net/'}]]"
      ]
     },
     "execution_count": 7,
     "metadata": {},
     "output_type": "execute_result"
    }
   ],
   "source": [
    "links = collection.query(query_texts=job['skills'], n_results=2).get('metadatas', [])\n",
    "links"
   ]
  },
  {
   "cell_type": "code",
   "execution_count": 8,
   "metadata": {},
   "outputs": [
    {
     "data": {
      "text/plain": [
       "{'role': 'Solutions Consultant',\n",
       " 'experience': ['12+ years experience in data engineering, data platforms & cloud technology projects',\n",
       "  '9+ years of experience in customer-facing product implementation knowledge',\n",
       "  'Experience in successfully managing multiple B2B infrastructure software development projects'],\n",
       " 'skills': ['Hands-on experience with two or more common Cloud ecosystems (AWS, Azure, GCP)',\n",
       "  'Expertise in at least one Cloud ecosystem',\n",
       "  'Comfortable writing code in either Python or Scala',\n",
       "  'Design and deployment of performant end-to-end data architectures',\n",
       "  'Data management concepts like Data Quality, Data Catalog and Data Governance',\n",
       "  'Cloud networking and security technologies (e.g. VPC, Private Link, Private Service Connect, TLS/SSL, SASL, Kerberos, etc.)',\n",
       "  'Operating Linux systems (configure, tune, and troubleshoot both RedHat and Debian-based distributions)'],\n",
       " 'description': 'We are looking for a Solutions Consultant to join our SNS team. As a Solutions Consultant, you will work with customers on short—to medium-term engagements to implement the data observability needs using the Acceldata Data Observability Cloud(ADOC). In this role, you will leverage your expertise in big data systems, kubernetes, and cloud-native systems to design and deliver MVPs, reference architectures, and demo applications for our customers.'}"
      ]
     },
     "execution_count": 8,
     "metadata": {},
     "output_type": "execute_result"
    }
   ],
   "source": [
    "job\n"
   ]
  },
  {
   "cell_type": "code",
   "execution_count": 9,
   "metadata": {},
   "outputs": [
    {
     "data": {
      "text/plain": [
       "['Hands-on experience with two or more common Cloud ecosystems (AWS, Azure, GCP)',\n",
       " 'Expertise in at least one Cloud ecosystem',\n",
       " 'Comfortable writing code in either Python or Scala',\n",
       " 'Design and deployment of performant end-to-end data architectures',\n",
       " 'Data management concepts like Data Quality, Data Catalog and Data Governance',\n",
       " 'Cloud networking and security technologies (e.g. VPC, Private Link, Private Service Connect, TLS/SSL, SASL, Kerberos, etc.)',\n",
       " 'Operating Linux systems (configure, tune, and troubleshoot both RedHat and Debian-based distributions)']"
      ]
     },
     "execution_count": 9,
     "metadata": {},
     "output_type": "execute_result"
    }
   ],
   "source": [
    "job = json_res\n",
    "job['skills']"
   ]
  },
  {
   "cell_type": "code",
   "execution_count": null,
   "metadata": {},
   "outputs": [
    {
     "name": "stdout",
     "output_type": "stream",
     "text": [
      "Subject: Expert Solutions Consultant for Seamless Data Observability Implementation\n",
      "\n",
      "Dear Hiring Manager,\n",
      "\n",
      "We came across your job posting for a Solutions Consultant and were impressed by the role's focus on implementing data observability needs using the Acceldata Data Observability Cloud (ADOC). Our company, X, has extensive experience in facilitating the seamless integration of business processes through automated tools, and we believe our expertise aligns perfectly with your requirements.\n",
      "\n",
      "With over a decade of experience in empowering numerous enterprises with tailored solutions, we have developed a strong portfolio in big data systems, Kubernetes, and cloud-native systems. Our team has hands-on experience with multiple Cloud ecosystems, including AWS, Azure, and GCP, and is well-versed in designing and deploying performant end-to-end data architectures.\n",
      "\n",
      "We'd like to highlight a few relevant projects from our portfolio that demonstrate our capabilities:\n",
      "\n",
      "* Our collaboration with HashiCorp (https://www.hashicorp.com/) showcases our expertise in cloud-native systems and infrastructure automation.\n",
      "* Our work with Bilal Quadri (https://bilalquadri.me/) demonstrates our ability to design and deploy scalable data architectures.\n",
      "\n",
      "Our team is comfortable writing code in Python and Scala, and we have experience with cloud networking and security technologies, including VPC, Private Link, and TLS/SSL. We're confident that our expertise in data management concepts, such as Data Quality, Data Catalog, and Data Governance, would be a valuable asset to your team.\n",
      "\n",
      "We'd love the opportunity to discuss how our company, X, can support your data observability needs and help you achieve your goals. Please feel free to reach out to us to schedule a call.\n",
      "\n",
      "Best regards,\n",
      "\n",
      "Rajesh Kumar\n",
      "Business Development Executive\n",
      "X - AI & Software Consulting\n",
      " Phone: +1 (123) 456-7890\n",
      " Email: [rajesh.kumar@companyx.com](mailto:rajesh.kumar@companyx.com)\n"
     ]
    }
   ],
   "source": [
    "prompt_email = PromptTemplate.from_template(\n",
    "        \"\"\"\n",
    "        ### JOB DESCRIPTION:\n",
    "        {job_description}\n",
    "        \n",
    "        ### INSTRUCTION:\n",
    "        You are HR, a business development executive at company X , X is an AI & Software Consulting company dedicated to facilitating\n",
    "        the seamless integration of business processes through automated tools. \n",
    "        Over our experience, we have empowered numerous enterprises with tailored solutions, fostering scalability, \n",
    "        process optimization, cost reduction, and heightened overall efficiency. \n",
    "        Your job is to write a cold email to the client regarding the job mentioned above describing the capability of Comany X \n",
    "        in fulfilling their needs.\n",
    "        Also add the most relevant ones from the following links to showcase comany X portfolio: {link_list}\n",
    "        give signature randomly with company X\n",
    "        Do not provide a preamble.\n",
    "        ### EMAIL (NO PREAMBLE):\n",
    "        \n",
    "        \"\"\"\n",
    "        )\n",
    "\n",
    "chain_email = prompt_email | llm\n",
    "res = chain_email.invoke({\"job_description\": str(job), \"link_list\": links})\n",
    "print(res.content)"
   ]
  },
  {
   "cell_type": "code",
   "execution_count": null,
   "metadata": {},
   "outputs": [],
   "source": []
  }
 ],
 "metadata": {
  "kernelspec": {
   "display_name": "Python 3",
   "language": "python",
   "name": "python3"
  },
  "language_info": {
   "codemirror_mode": {
    "name": "ipython",
    "version": 3
   },
   "file_extension": ".py",
   "mimetype": "text/x-python",
   "name": "python",
   "nbconvert_exporter": "python",
   "pygments_lexer": "ipython3",
   "version": "3.12.1"
  }
 },
 "nbformat": 4,
 "nbformat_minor": 2
}
