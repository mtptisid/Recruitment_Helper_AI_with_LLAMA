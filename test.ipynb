{
 "cells": [
  {
   "cell_type": "code",
   "execution_count": 4,
   "metadata": {},
   "outputs": [
    {
     "name": "stdout",
     "output_type": "stream",
     "text": [
      "Here are some of the most commonly used tools by HR professionals to hire resources:\n",
      "\n",
      "1. **Applicant Tracking Systems (ATS)**: These systems help manage job postings, candidate applications, and resumes. Examples include:\n",
      "\t* Workday\n",
      "\t* BambooHR\n",
      "\t* Taleo\n",
      "\t* iCIMS\n",
      "\t* Jobvite\n",
      "2. **Job Boards and Career Websites**: Popular job boards and career websites used by HR professionals include:\n",
      "\t* LinkedIn\n",
      "\t* Indeed\n",
      "\t* Glassdoor\n",
      "\t* Monster\n",
      "\t* CareerBuilder\n",
      "3. **Social Media**: Many HR professionals use social media platforms to post job openings and connect with potential candidates:\n",
      "\t* LinkedIn (again, a popular choice)\n",
      "\t* Twitter\n",
      "\t* Facebook\n",
      "\t* Instagram\n",
      "4. **Recruitment Marketing Platforms**: These platforms help HR professionals create and manage job postings, as well as track candidate engagement:\n",
      "\t* SmashFly\n",
      "\t* Phenom People\n",
      "\t* CareerArc\n",
      "5. **Video Interviewing Tools**: These tools enable HR professionals to conduct remote interviews and assessments:\n",
      "\t* Zoom\n",
      "\t* Skype\n",
      "\t* Google Meet\n",
      "\t* HireVue\n",
      "\t* Spark Hire\n",
      "6. **Background Check and Verification Tools**: These tools help HR professionals verify candidate information and conduct background checks:\n",
      "\t* Sterling\n",
      "\t* HireRight\n",
      "\t* Checkr\n",
      "7. **Employee Referral Platforms**: These platforms encourage current employees to refer friends and contacts for job openings:\n",
      "\t* EmployeeReferrals\n",
      "\t* ReferralCandy\n",
      "\t* Zao\n",
      "8. **Predictive Analytics and AI-powered Tools**: These tools use data and AI to help HR professionals identify top candidates and predict job fit:\n",
      "\t* Entelo\n",
      "\t* TextRecruit\n",
      "\t* Ideal\n",
      "9. **HR Information Systems (HRIS)**: These systems help HR professionals manage employee data, benefits, and other HR-related tasks:\n",
      "\t* Workday\n",
      "\t* BambooHR\n",
      "\t* ADP\n",
      "10. **Virtual Recruitment Platforms**: These platforms enable HR professionals to host virtual recruitment events and connect with candidates remotely:\n",
      "\t* Brazen\n",
      "\t* VirtualJobFair\n",
      "\t* CareerEco\n",
      "\n",
      "Keep in mind that the specific tools used by HR professionals may vary depending on the organization's size, industry, and recruitment needs.\n"
     ]
    }
   ],
   "source": [
    "from langchain_groq import ChatGroq\n",
    "\n",
    "llm = ChatGroq(\n",
    "    temperature=0, \n",
    "    groq_api_key='your_api_key', \n",
    "    model_name=\"llama-3.1-70b-versatile\"\n",
    ")\n",
    "\n",
    "\n",
    "response = llm.invoke(\"whats tools the most HR use to hire resources.?\")\n",
    "print(response.content)"
   ]
  },
  {
   "cell_type": "code",
   "execution_count": null,
   "metadata": {},
   "outputs": [],
   "source": [
    "\n"
   ]
  },
  {
   "cell_type": "code",
   "execution_count": null,
   "metadata": {},
   "outputs": [],
   "source": []
  }
 ],
 "metadata": {
  "kernelspec": {
   "display_name": "Python 3",
   "language": "python",
   "name": "python3"
  },
  "language_info": {
   "codemirror_mode": {
    "name": "ipython",
    "version": 3
   },
   "file_extension": ".py",
   "mimetype": "text/x-python",
   "name": "python",
   "nbconvert_exporter": "python",
   "pygments_lexer": "ipython3",
   "version": "3.12.1"
  }
 },
 "nbformat": 4,
 "nbformat_minor": 2
}
